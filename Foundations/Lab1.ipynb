{
 "cells": [
  {
   "cell_type": "code",
   "execution_count": 21,
   "id": "6948e3b9",
   "metadata": {},
   "outputs": [],
   "source": [
    "from dotenv import load_dotenv"
   ]
  },
  {
   "cell_type": "code",
   "execution_count": 22,
   "id": "7c2843d5",
   "metadata": {},
   "outputs": [
    {
     "data": {
      "text/plain": [
       "True"
      ]
     },
     "execution_count": 22,
     "metadata": {},
     "output_type": "execute_result"
    }
   ],
   "source": [
    "load_dotenv(override=True)"
   ]
  },
  {
   "cell_type": "code",
   "execution_count": 23,
   "id": "afcee613",
   "metadata": {},
   "outputs": [
    {
     "name": "stdout",
     "output_type": "stream",
     "text": [
      "OpenAI API key exists and starts with sk-proj-lN\n"
     ]
    }
   ],
   "source": [
    "import os\n",
    "openai_api_key=os.getenv(\"OPENAI_API_KEY\")\n",
    "if openai_api_key:\n",
    "    print(f\"OpenAI API key exists and starts with {openai_api_key[:10]}\")\n",
    "else:\n",
    "    print(\"OpenAI Key doesnt exists\")"
   ]
  },
  {
   "cell_type": "code",
   "execution_count": 24,
   "id": "997de43c",
   "metadata": {},
   "outputs": [],
   "source": [
    "from openai import OpenAI"
   ]
  },
  {
   "cell_type": "code",
   "execution_count": 25,
   "id": "2afbdade",
   "metadata": {},
   "outputs": [],
   "source": [
    "client=OpenAI()"
   ]
  },
  {
   "cell_type": "code",
   "execution_count": 30,
   "id": "7af1807d",
   "metadata": {},
   "outputs": [
    {
     "name": "stdout",
     "output_type": "stream",
     "text": [
      "[{'role': 'user', 'content': 'what is 2+2'}]\n"
     ]
    }
   ],
   "source": [
    "message=[{\"role\": \"user\", 'content': 'what is 2+2'}]\n",
    "print(message)"
   ]
  },
  {
   "cell_type": "code",
   "execution_count": 31,
   "id": "bd6587c3",
   "metadata": {},
   "outputs": [
    {
     "name": "stdout",
     "output_type": "stream",
     "text": [
      "4\n"
     ]
    }
   ],
   "source": [
    "response=client.chat.completions.create(\n",
    "    model='gpt-5',\n",
    "    messages=message\n",
    ")\n",
    "result=response.choices[0].message.content\n",
    "print(result)"
   ]
  },
  {
   "cell_type": "code",
   "execution_count": 37,
   "id": "9ffc26cd",
   "metadata": {},
   "outputs": [
    {
     "name": "stdout",
     "output_type": "stream",
     "text": [
      "Challenge:\n",
      "You have 12 identical-looking coins. One is counterfeit and differs in weight (it could be heavier or lighter), while the other 11 are genuine and weigh the same. Using only a balance scale and at most 3 weighings, determine exactly which coin is counterfeit and whether it is heavier or lighter. Specify the coins you place on each side for every weighing and how you deduce the answer from the outcomes.\n",
      "\n",
      "Hint:\n",
      "- Think in terms of information: 3 weighings yield 3^3 = 27 possible outcome patterns (left heavier, right heavier, or balance each time), which is just enough to distinguish the 24 possibilities (12 coins × {heavier, lighter}).\n",
      "- Design your weighings so each coin has a unique “signature” across the three weighings, using balanced groups (equal total number and distribution on each side). A good way is to assign each coin a triple of positions across the three weighings: left (+1), right (−1), or off the scale (0), making sure each weighing has equal total “+1” and “−1.” The direction the scale tips then tells you both which coin it is and whether it’s heavier or lighter (the sign flips for lighter).\n"
     ]
    }
   ],
   "source": [
    "question='propose a hard challenge to check someones IQ and give a hint to solve that que'\n",
    "message=[{\"role\": \"user\", \"content\": question}]\n",
    "\n",
    "response=client.chat.completions.create(\n",
    "    model='gpt-5',\n",
    "    messages=message\n",
    ")\n",
    "\n",
    "result=response.choices[0].message.content\n",
    "print(result)"
   ]
  },
  {
   "cell_type": "code",
   "execution_count": 39,
   "id": "aab7f1f4",
   "metadata": {},
   "outputs": [
    {
     "name": "stdout",
     "output_type": "stream",
     "text": [
      "Answer\n",
      " Label the coins 1–12. Use a balance scale.\n",
      "\n",
      "Weighing 1: 1,2,3,4 vs 5,6,7,8.\n",
      "\n",
      "A) If W1 balances: the counterfeit is among 9,10,11,12.\n",
      "- Weighing 2: 9,10,11 vs 1,2,3 (known genuine).\n",
      "  - If W2 balances: counterfeit = 12. Weighing 3: 12 vs 1. Heavier → 12 is heavy; lighter → 12 is light.\n",
      "  - If W2 left side heavier: one of 9,10,11 is heavy. Weighing 3: 9 vs 10. Heavier → that coin is heavy; equal → 11 is heavy.\n",
      "  - If W2 right side heavier: one of 9,10,11 is light. Weighing 3: 9 vs 10. Lighter → that coin is light; equal → 11 is light.\n",
      "\n",
      "B) If W1 left side heavier: the counterfeit is in {1,2,3,4} and heavy, or in {5,6,7,8} and light.\n",
      "- Weighing 2: 1,2,5 vs 3,6,9.\n",
      "  - If W2 balances: suspects = {4 heavy, 7 light, 8 light}. Weighing 3: 7 vs 8. If equal → 4 is heavy; if one side rises, the coin on the rising side is light.\n",
      "  - If W2 left side heavier: suspects = {1 heavy, 2 heavy, 6 light}. Weighing 3: 1 vs 2. If equal → 6 is light; if left heavier → 1 is heavy; if right heavier → 2 is heavy.\n",
      "  - If W2 right side heavier: suspects = {3 heavy, 5 light}. Weighing 3: 3 vs 1 (genuine). If left heavier → 3 is heavy; if equal → 5 is light.\n",
      "\n",
      "C) If W1 right side heavier: symmetric to B (now {5,6,7,8} heavy or {1,2,3,4} light).\n",
      "- Weighing 2: 1,2,5 vs 3,6,9.\n",
      "  - If W2 balances: suspects = {7 heavy, 8 heavy, 4 light}. Weighing 3: 7 vs 8. If equal → 4 is light; if left heavier → 7 is heavy; if right heavier → 8 is heavy.\n",
      "  - If W2 left side heavier: suspects = {5 heavy, 3 light}. Weighing 3: 3 vs 1 (genuine). If right heavier → 3 is light; if equal → 5 is heavy.\n",
      "  - If W2 right side heavier: suspects = {1 light, 2 light, 6 heavy}. Weighing 3: 1 vs 2. If left lighter → 1 is light; if right lighter → 2 is light; if equal → 6 is heavy.\n",
      "\n",
      "This identifies exactly which coin is counterfeit and whether it is heavier or lighter in at most three weighings.\n"
     ]
    }
   ],
   "source": [
    "message=[{'role': 'user', 'content': result}]\n",
    "\n",
    "response=client.chat.completions.create(\n",
    "    model='gpt-5',\n",
    "    messages=message\n",
    ")\n",
    "\n",
    "answer=response.choices[0].message.content\n",
    "print('Answer\\n', answer)"
   ]
  },
  {
   "cell_type": "code",
   "execution_count": 40,
   "id": "c101f06a",
   "metadata": {},
   "outputs": [
    {
     "data": {
      "text/markdown": [
       "Label the coins 1–12. Use a balance scale.\n",
       "\n",
       "Weighing 1: 1,2,3,4 vs 5,6,7,8.\n",
       "\n",
       "A) If W1 balances: the counterfeit is among 9,10,11,12.\n",
       "- Weighing 2: 9,10,11 vs 1,2,3 (known genuine).\n",
       "  - If W2 balances: counterfeit = 12. Weighing 3: 12 vs 1. Heavier → 12 is heavy; lighter → 12 is light.\n",
       "  - If W2 left side heavier: one of 9,10,11 is heavy. Weighing 3: 9 vs 10. Heavier → that coin is heavy; equal → 11 is heavy.\n",
       "  - If W2 right side heavier: one of 9,10,11 is light. Weighing 3: 9 vs 10. Lighter → that coin is light; equal → 11 is light.\n",
       "\n",
       "B) If W1 left side heavier: the counterfeit is in {1,2,3,4} and heavy, or in {5,6,7,8} and light.\n",
       "- Weighing 2: 1,2,5 vs 3,6,9.\n",
       "  - If W2 balances: suspects = {4 heavy, 7 light, 8 light}. Weighing 3: 7 vs 8. If equal → 4 is heavy; if one side rises, the coin on the rising side is light.\n",
       "  - If W2 left side heavier: suspects = {1 heavy, 2 heavy, 6 light}. Weighing 3: 1 vs 2. If equal → 6 is light; if left heavier → 1 is heavy; if right heavier → 2 is heavy.\n",
       "  - If W2 right side heavier: suspects = {3 heavy, 5 light}. Weighing 3: 3 vs 1 (genuine). If left heavier → 3 is heavy; if equal → 5 is light.\n",
       "\n",
       "C) If W1 right side heavier: symmetric to B (now {5,6,7,8} heavy or {1,2,3,4} light).\n",
       "- Weighing 2: 1,2,5 vs 3,6,9.\n",
       "  - If W2 balances: suspects = {7 heavy, 8 heavy, 4 light}. Weighing 3: 7 vs 8. If equal → 4 is light; if left heavier → 7 is heavy; if right heavier → 8 is heavy.\n",
       "  - If W2 left side heavier: suspects = {5 heavy, 3 light}. Weighing 3: 3 vs 1 (genuine). If right heavier → 3 is light; if equal → 5 is heavy.\n",
       "  - If W2 right side heavier: suspects = {1 light, 2 light, 6 heavy}. Weighing 3: 1 vs 2. If left lighter → 1 is light; if right lighter → 2 is light; if equal → 6 is heavy.\n",
       "\n",
       "This identifies exactly which coin is counterfeit and whether it is heavier or lighter in at most three weighings."
      ],
      "text/plain": [
       "<IPython.core.display.Markdown object>"
      ]
     },
     "metadata": {},
     "output_type": "display_data"
    }
   ],
   "source": [
    "from IPython.display import Markdown, display\n",
    "\n",
    "display(Markdown(answer))"
   ]
  },
  {
   "cell_type": "code",
   "execution_count": 51,
   "id": "e5a1fab0",
   "metadata": {},
   "outputs": [
    {
     "name": "stdout",
     "output_type": "stream",
     "text": [
      "Business area: Government contracting “ProposalOps” (agentic RFP response for SMBs)\n",
      "\n",
      "Why this is attractive\n",
      "- Massive spend and fragmented access: Hundreds of billions in annual federal/state/local procurement, spread across thousands of portals and formats.\n",
      "- Painfully manual today: Monitoring bids, extracting requirements, building compliance matrices, coordinating inputs, filling forms, packaging, and submitting before hard deadlines.\n",
      "- Clear ROI and willingness to pay: Time saved and higher win rates translate directly to revenue.\n",
      "- Strong fit for agentic AI: Multi-step, tool-using, document-heavy, deadline-driven workflows with natural human-in-the-loop checkpoints.\n",
      "\n",
      "What the agent does (end-to-end)\n",
      "- Opportunity monitoring: Watch selected portals, classify relevance to your NAICS/PSC, geos, set-asides; alert with confidence and fit summary.\n",
      "- Requirements extraction: Parse RFPs/addenda into a structured compliance matrix; identify mandatory forms, past performance, certifications, and page limits.\n",
      "- Workplan orchestration: Create a timeline with milestones, auto-assign tasks to SMEs, chase deliverables, and keep a live status board.\n",
      "- Drafting and assembly: Generate tailored technical/management sections from your knowledge base; create resumes, past performance write-ups, and compliance crosswalks.\n",
      "- Pricing support: Build pricing tables from BoMs/CLINs; flag unpriced items, apply standard markups, check math and rounding constraints.\n",
      "- Q&A and addenda handling: Track vendor Q&A windows, draft questions, update plan on addenda changes, revalidate compliance.\n",
      "- Forms and packaging: Fill standard forms (e.g., SF1449, SF330 variants, state/local equivalents), assemble volumes, apply templates, and run pre-submission checks.\n",
      "- Submission execution: Where permitted, submit via email/portal automation; otherwise generate step-by-step submission packet and checklist.\n",
      "- Post-mortem and knowledge capture: Log outcomes, reasons for loss/win, update content library for future reuse.\n",
      "\n",
      "MVP scope (start narrow)\n",
      "- Vertical: Local government and education (cities, counties, school districts) in 1–2 states where portals are simpler and volumes are high.\n",
      "- Capabilities: \n",
      "  - Daily portal monitoring and de-duplication\n",
      "  - RFP ingestion with compliance matrix\n",
      "  - Deadline calendar and task orchestration\n",
      "  - First-draft proposal sections from customer’s library\n",
      "  - Standard forms fill for target jurisdictions\n",
      "  - Submission packet creation and human-in-the-loop review gates\n",
      "- Human controls: Mandatory approvals for content, pricing, and final packaging; change logs; audit trails.\n",
      "\n",
      "Key integrations and data\n",
      "- Portals: State/municipal procurement sites, SAM.gov (read-only at first).\n",
      "- Productivity: Gmail/Outlook, Calendar, Drive/SharePoint, Slack/Teams.\n",
      "- Content: Customer’s past proposals, resumes, case studies, certifications, rate cards.\n",
      "- E-sign and forms: DocuSign/Adobe for affidavits; PDF/OCR for legacy forms.\n",
      "- Security: SSO, role-based access, private vector store per tenant.\n",
      "\n",
      "Technical approach and guardrails\n",
      "- Retrieval-augmented generation with long-context models for RFPs; deterministic templates for compliance-heavy sections.\n",
      "- Structured extraction (regex + ML) for requirements, dates, forms fields.\n",
      "- Browser automation (e.g., Playwright) with portal-specific adapters; respect robots/TOS and offer “assistant” mode where automation isn’t allowed.\n",
      "- Hallucination controls: cite-to-source for every claim, constraint validations (page limits, font sizes), numeric checks on pricing.\n",
      "- PII/FOUO handling: Data residency options, encryption, redaction, and least-privilege IAM.\n",
      "\n",
      "Business model\n",
      "- SaaS subscription tiers by number of monitored portals and active bids (e.g., Starter, Pro, Enterprise) plus optional success fee or per-submission add-on.\n",
      "- Professional services for onboarding content library and portal adapters.\n",
      "\n",
      "Go-to-market\n",
      "- ICP: 10–500-employee contractors new to or growing in SLED/Federal markets; busy capture/proposal teams and owner-operators.\n",
      "- Wedge offer: “We’ll prepare your next 3 bids 2x faster with a compliance guarantee or you don’t pay.”\n",
      "- Channels: Partnerships with PTAC/APEX Accelerators, proposal consultancies, and vertical associations; case studies on early wins.\n",
      "\n",
      "Key risks and mitigations\n",
      "- Portal automation limits: Some portals block bots. Mitigate with human-in-the-loop submission, documented checklists, and official API partnerships where available.\n",
      "- Compliance errors: Enforce gated reviews, checklists, and automated validations; carry professional liability coverage.\n",
      "- Data sensitivity: Strong security posture, tenant isolation, and clear data handling policies; on-prem or private cloud for regulated clients.\n",
      "- Adoption inertia: Deliver value fast by focusing on monitoring, compliance matrix, and drafting—the most time-consuming tasks.\n",
      "\n",
      "Success metrics\n",
      "- Time to complete a compliant bid (hours saved).\n",
      "- On-time submission rate and rework rate.\n",
      "- Shortlist and win rates (by category/customer).\n",
      "- Content reuse rate and SME touch-time reduction.\n",
      "- Net revenue influenced per month.\n",
      "\n",
      "Expansion path\n",
      "- Additional states/federal agencies; then commercial RFPs.\n",
      "- Add capture intelligence (competitor analysis, price-to-win) and teaming partner sourcing.\n",
      "- Post-award: contract kickoff, deliverables tracking, invoicing, and mods.\n",
      "- Marketplace for vetted proposal writers to collaborate with the agent.\n",
      "\n",
      "If you want, I can tailor this to your industry, region, and current tool stack, and sketch an MVP plan for your first 90 days.\n"
     ]
    }
   ],
   "source": [
    "que='Pick a business area that might be worth exploring for an Agentic AI oppourtunity.'\n",
    "message=[{'role':'user', 'content':que}]\n",
    "\n",
    "response=client.chat.completions.create(\n",
    "    model='gpt-5',\n",
    "    messages=message\n",
    ")\n",
    "result=response.choices[0].message.content\n",
    "print(result)"
   ]
  },
  {
   "cell_type": "code",
   "execution_count": null,
   "id": "14bc7719",
   "metadata": {},
   "outputs": [],
   "source": []
  }
 ],
 "metadata": {
  "kernelspec": {
   "display_name": ".venv",
   "language": "python",
   "name": "python3"
  },
  "language_info": {
   "codemirror_mode": {
    "name": "ipython",
    "version": 3
   },
   "file_extension": ".py",
   "mimetype": "text/x-python",
   "name": "python",
   "nbconvert_exporter": "python",
   "pygments_lexer": "ipython3",
   "version": "3.12.11"
  }
 },
 "nbformat": 4,
 "nbformat_minor": 5
}
