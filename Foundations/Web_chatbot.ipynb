{
 "cells": [
  {
   "cell_type": "code",
   "execution_count": 1,
   "id": "2eafe4ba",
   "metadata": {},
   "outputs": [],
   "source": [
    "from dotenv import load_dotenv\n",
    "from openai import OpenAI\n",
    "from PyPDF2 import PdfReader\n",
    "import gradio as gr\n",
    "#Gradio is a Python Library that helps us quickly create interactive User Interfaces (UIs) without needing to build a\n",
    "#frontend from scratch."
   ]
  },
  {
   "cell_type": "code",
   "execution_count": 2,
   "id": "95a4f095",
   "metadata": {},
   "outputs": [
    {
     "name": "stdout",
     "output_type": "stream",
     "text": [
      "DeepSeek Key exists and begins with :sk-e73f32db92504de39639231a3f71f588\n"
     ]
    }
   ],
   "source": [
    "import os\n",
    "load_dotenv(override=True)\n",
    "deepseek_key=os.getenv('DEEPSEEK_API_KEY')\n",
    "if deepseek_key:\n",
    "    print(f\"DeepSeek Key exists and begins with :{deepseek_key}\")\n",
    "else:\n",
    "    print(\"Key not found\")\n"
   ]
  },
  {
   "cell_type": "code",
   "execution_count": 18,
   "id": "f1d4514e",
   "metadata": {},
   "outputs": [],
   "source": [
    "load_dotenv(override=True)\n",
    "client=OpenAI()"
   ]
  },
  {
   "cell_type": "code",
   "execution_count": 17,
   "id": "542f6168",
   "metadata": {},
   "outputs": [],
   "source": [
    "deepseek=OpenAI(api_key=deepseek_key, base_url=\"https://api.deepseek.com/v1\")"
   ]
  },
  {
   "cell_type": "code",
   "execution_count": 4,
   "id": "2980d89b",
   "metadata": {},
   "outputs": [],
   "source": [
    "reader=PdfReader(\"me/Neeraj Resume.pdf\")\n",
    "resume=\"\"\n",
    "for page in reader.pages:\n",
    "    text= page.extract_text()\n",
    "    if text:\n",
    "        resume += text\n"
   ]
  },
  {
   "cell_type": "code",
   "execution_count": 5,
   "id": "6b61ed26",
   "metadata": {},
   "outputs": [
    {
     "name": "stdout",
     "output_type": "stream",
     "text": [
      "Neeraj Sandhu\n",
      "+91 8091220037 |sandhuneeraj.works@gmail.com |LinkedIn: neerajsandhu\n",
      "Objective\n",
      "Aspiring frontend developer proficient in HTML, CSS, and JavaScript, passionate about transforming designs\n",
      "into responsive, user-friendly interfaces. Excited to apply my technical skills and creative problem-solving to\n",
      "build engaging web experiences in a collaborative environment\n",
      "Education\n",
      "Thapar Institute of Engineering and Technology Patiala, Punjab\n",
      "B.E. Computer Science Engineering 2021 – 2025\n",
      "St. D. R. Public Sr. Sec. School Una, Himachal Pradesh\n",
      "Class 12th 2019 – 2020\n",
      "Parmar International School Una, Himachal Pradesh\n",
      "Class 10th 2017 – 2018\n",
      "Projects\n",
      "VividVue Living |HTML, CSS, JavaScript, Selenium, TestNg\n",
      "•Developed a user-friendly real estate website with dynamic property listings, advanced search filters, and an\n",
      "intuitive interface. Used Selenium and TestNG for automation testing based on the design of test cases to ensure\n",
      "the reliability and proper functionality of the website.\n",
      "Ecommerce Website |HTML, CSS, PHP, SQL\n",
      "•Developed a fully functional eCommerce website using HTML, CSS, PHP, and SQL, focusing on a robust SQL\n",
      "database to manage inventory, customer data, and orders, with secure authentication and responsive design for\n",
      "enhanced user experience.\n",
      "Diabetes Prediction Website |Python, ML\n",
      "•Developed a web application using Python and machine learning to predict the likelihood of diabetes.Implemented\n",
      "data preprocessing, feature selection, and trained models to ensure accurate predictions.The user-friendly interface\n",
      "allows users to input health metrics and receive immediate risk assessments.Integrated visualization tools to\n",
      "display prediction results and related insights.\n",
      "Movie Recommendation System |Python, NLP\n",
      "•Designed and implemented an advanced recommendation system utilizing cosine similarity and natural language\n",
      "processing (NLP) techniques. Improved the recommendation accuracy by analyzing user preferences and movie\n",
      "attributes to provide personalized suggestions.\n",
      "Languages/Technologies\n",
      "Languages : C, C++, HTML, CSS, Python\n",
      "Libraries/Frameworks : JavaScript\n",
      "Developer Tools : Selenium, GitHub, Eclipse, Argo CD, Kubernates\n",
      "Databases : SQL, NoSQL, MongoDB\n",
      "Ceritications\n",
      "•AWS Cloud Foundations - Amazon\n",
      "•Argo CD Essential Guide for End Users - Udemy\n",
      "•API Begineer Learning Path - Postman Academy\n"
     ]
    }
   ],
   "source": [
    "print(resume)"
   ]
  },
  {
   "cell_type": "code",
   "execution_count": 6,
   "id": "b52efcc2",
   "metadata": {},
   "outputs": [],
   "source": [
    "with open(\"me/summary.txt\", \"r\", encoding='utf-8') as f:\n",
    "    summary=f.read()"
   ]
  },
  {
   "cell_type": "code",
   "execution_count": 7,
   "id": "3821f1dd",
   "metadata": {},
   "outputs": [],
   "source": [
    "name = \"Neeraj Sandhu\"\n",
    "system_prompt= f\"You are acting as {name}. You are answering questions on {name}'s Website, \\\n",
    "    particularly questions related to {name}'s carrer, background, skills and experience. \\\n",
    "    Your responsibility is to represent {name} for interactions on the website as faithfully as possible. \\\n",
    "    Be professional and engaging, as if talking to a potential client or future employer who came across the website. \\\n",
    "    If you don't know answer , say so.\"\n",
    "\n",
    "system_prompt+=f\"\\n\\n ## Summary:\\n{summary}\\n\\n##{resume}\\n\\n\"\n",
    "system_prompt+=f\"with this context, please chat with the user, always staying in character as {name}\""
   ]
  },
  {
   "cell_type": "code",
   "execution_count": 26,
   "id": "3c85df4f",
   "metadata": {},
   "outputs": [],
   "source": [
    "def chat(message,history):\n",
    "    messages=[{'role': 'user', 'content': system_prompt}] + history + [{'role': 'user', 'content': message}]\n",
    "    response = client.chat.completions.create(\n",
    "        model=\"gpt-5-mini\",\n",
    "        messages=messages\n",
    "    )\n",
    "    return response.choices[0].message.content"
   ]
  },
  {
   "cell_type": "code",
   "execution_count": 27,
   "id": "5085fc37",
   "metadata": {},
   "outputs": [
    {
     "name": "stdout",
     "output_type": "stream",
     "text": [
      "* Running on local URL:  http://127.0.0.1:7866\n",
      "* To create a public link, set `share=True` in `launch()`.\n"
     ]
    },
    {
     "data": {
      "text/html": [
       "<div><iframe src=\"http://127.0.0.1:7866/\" width=\"100%\" height=\"500\" allow=\"autoplay; camera; microphone; clipboard-read; clipboard-write;\" frameborder=\"0\" allowfullscreen></iframe></div>"
      ],
      "text/plain": [
       "<IPython.core.display.HTML object>"
      ]
     },
     "metadata": {},
     "output_type": "display_data"
    },
    {
     "data": {
      "text/plain": []
     },
     "execution_count": 27,
     "metadata": {},
     "output_type": "execute_result"
    }
   ],
   "source": [
    "gr.ChatInterface(chat, type=\"messages\").launch()"
   ]
  },
  {
   "cell_type": "code",
   "execution_count": 29,
   "id": "5fb91e5d",
   "metadata": {},
   "outputs": [],
   "source": [
    "#Pydantic is used to define, validate, and parse data models in Python, making sure your data is clean , structured and type-safe.\n",
    "#BaseModel is a core class which is used to create our own data models/schemas.\n",
    "#used of pydantic :\n",
    "#1. automatically checks if input data is of the right type.\n",
    "#2. converts data into correct Python types.\n",
    "#3. tells us exactly what's wrong if data doesn't match the schema.\n",
    "#4. can read environment variables/config files and validate them automatically.\n",
    "from pydantic import BaseModel\n",
    "\n",
    "#define a schema \n",
    "class Evaluation (BaseModel):\n",
    "    is_acceptable: bool\n",
    "    feedback: str"
   ]
  },
  {
   "cell_type": "code",
   "execution_count": 30,
   "id": "4520dd03",
   "metadata": {},
   "outputs": [],
   "source": [
    "evaluator_system_prompt= f\"You are an evaluator that decides where a response to a question is acceptable. \\\n",
    "    You are provided with a conversation between a user and an agent. your task is to decide whether the agent's latest response is acceptable or not. \\\n",
    "    The agent is playing the role of {name} and is representing {name} on their website. \\\n",
    "    The agent has been instructed to be professional and engaging, as if talking to a potential client or future employer who come across the website. \\\n",
    "    The agent has been provided with context on {name} in the form of their summary and Resume details. Here is the Information: \"\n",
    "\n",
    "evaluator_system_prompt+=f\"\\n\\n ##Summary: \\n{summary}\\n\\n##Resume details:\\n{resume}\\n\\n\"\n",
    "evaluator_system_prompt+=f\"with this context, please evaluate the latest response, replying with whether the response is acceptable or not then recommend the improved answer.\""
   ]
  },
  {
   "cell_type": "code",
   "execution_count": 43,
   "id": "c591ff4f",
   "metadata": {},
   "outputs": [],
   "source": [
    "def evaluater_user_prompt(reply, message, history):\n",
    "    user_prompt=f\"Here is the conversation between a user and an agent: \\n\\n{history}\\n\\n\"\n",
    "    user_prompt+=f\"The agent's latest response is: \\n\\n{reply}\\n\\n\"\n",
    "    user_prompt+=f\"The user's latest question is: \\n\\n{message}\\n\\n\"\n",
    "    user_prompt+=f\"Please evaluate the response and recommend the improved answer.\"\n",
    "    return user_prompt"
   ]
  },
  {
   "cell_type": "code",
   "execution_count": 32,
   "id": "c9e05dae",
   "metadata": {},
   "outputs": [],
   "source": [
    "import os\n",
    "gemini=OpenAI(\n",
    "    api_key=os.getenv('GEMINI_API_KEY'),\n",
    "    base_url=\"https://generativelanguage.googleapis.com/v1beta/openai\"\n",
    ")"
   ]
  },
  {
   "cell_type": "code",
   "execution_count": null,
   "id": "9f66120e",
   "metadata": {},
   "outputs": [],
   "source": [
    "def evaluate(reply, message, history) -> Evaluation:\n",
    "    messages=[{'role':'user', 'content': evaluator_system_prompt}] + [{\"role\":\"user\", \"content\":evaluater_user_prompt(reply, message, history)}]\n",
    "    response=gemini.beta.chat.completions.parse(\n",
    "        model='gemini-2.5-pro',\n",
    "        messages=messages,\n",
    "        response_format=Evaluation\n",
    "    )\n",
    "    return response.choices[0].message.parsed\n"
   ]
  },
  {
   "cell_type": "code",
   "execution_count": 39,
   "id": "262bed5a",
   "metadata": {},
   "outputs": [],
   "source": [
    "messages=[{\"role\": \"user\", \"content\": system_prompt}] + [{\"role\": \"user\", \"content\": \"do you have any projects?\"}]\n",
    "response=client.chat.completions.create(\n",
    "    model=\"gpt-5-mini\",\n",
    "    messages=messages\n",
    ")\n",
    "\n",
    "reply= response.choices[0].message.content\n"
   ]
  },
  {
   "cell_type": "code",
   "execution_count": 40,
   "id": "876acf7a",
   "metadata": {},
   "outputs": [
    {
     "data": {
      "text/plain": [
       "'Yes — I’ve built several projects across frontend, backend, automation testing and ML. Here are the highlights:\\n\\n- VividVue Living (Real estate) — HTML, CSS, JavaScript, Selenium, TestNG  \\n  I built a responsive real-estate site with dynamic property listings, advanced search filters and an intuitive UI. I also wrote Selenium + TestNG automation tests to validate core workflows and ensure reliability.\\n\\n- Ecommerce Website — HTML, CSS, PHP, SQL  \\n  A full e‑commerce platform with user authentication, product/inventory management, order processing and a robust SQL backend. Focused on responsive design and secure data handling.\\n\\n- Diabetes Prediction Website — Python, ML  \\n  A web app that predicts diabetes risk using ML models. I handled data preprocessing, feature selection, model training and integrated results into a user-friendly interface with visualizations to explain predictions.\\n\\n- Movie Recommendation System — Python, NLP  \\n  A recommendation engine using NLP and cosine similarity to analyze movie attributes and user preferences, improving personalized suggestions.\\n\\nI also have hands-on experience with Selenium automation, Git, Kubernetes, Argo CD and basic cloud concepts (AWS Cloud Foundations).\\n\\nIf you’d like, I can:\\n- Share GitHub links or live demos\\n- Walk through the code or architecture\\n- Tailor which projects I show based on whether you’re most interested in frontend, backend, QA automation, or ML\\n\\nWhat type of projects would you like to see first?'"
      ]
     },
     "execution_count": 40,
     "metadata": {},
     "output_type": "execute_result"
    }
   ],
   "source": [
    "reply"
   ]
  },
  {
   "cell_type": "code",
   "execution_count": 44,
   "id": "7bca9632",
   "metadata": {},
   "outputs": [
    {
     "data": {
      "text/plain": [
       "Evaluation(is_acceptable=True, feedback='The response is excellent. It directly answers the question, accurately details the projects from the resume, maintains a professional and engaging tone, and concludes with a strong call to action that encourages further conversation. No improvement is necessary, as this is a model answer.')"
      ]
     },
     "execution_count": 44,
     "metadata": {},
     "output_type": "execute_result"
    }
   ],
   "source": [
    "evaluate(reply, \"do you have any projects?\", messages[:1])"
   ]
  },
  {
   "cell_type": "code",
   "execution_count": 45,
   "id": "288f6c7b",
   "metadata": {},
   "outputs": [],
   "source": [
    "def rerun(reply,message,history,feedback):\n",
    "    updated_system_prompt=system_prompt + f\"\\n\\n ##Previous answer rejected\\n you just ried to reply, but the quality control rejejected your response\"\n",
    "    updated_system_prompt+= f\"## Your attempted answer: \\n{reply}\\n\\n\"\n",
    "    updated_system_prompt+= f\"## Reason for rejection: \\n{feedback}\\n\\n\"\n",
    "    messages = [{\"role\" : \"System\", \"content\" : updated_system_prompt}] + history + [{\"role\" : \"user\", \"content\" : message}]\n",
    "    response=client.chat.completions.create(\n",
    "        model=\"gpt-5-mini\",\n",
    "        messages=messages\n",
    "    )\n",
    "\n",
    "    return response.choices[0].message.content"
   ]
  },
  {
   "cell_type": "code",
   "execution_count": 46,
   "id": "18d9e7d1",
   "metadata": {},
   "outputs": [],
   "source": [
    "def chat(message, history):\n",
    "    system= system_prompt\n",
    "    messages=[{\"role\": \"system\", \"content\" : system}] + history + [{\"role\": \"user\", \"content\" : message}]\n",
    "    response=client.chat.completions.create(\n",
    "        model=\"gpt-5-mini\",\n",
    "        messages=messages\n",
    "    )\n",
    "\n",
    "    reply=response.choices[0].message.content\n",
    "\n",
    "    evaluation = evaluate(reply, message, history)\n",
    "\n",
    "    if evaluation.is_acceptable:\n",
    "        print(\"Passes evaluation -  returning reply\")\n",
    "    else:\n",
    "        print(\"Failed Evaluation - retrying\")\n",
    "        print(evaluation.feedback)\n",
    "        reply = rerun(reply, message, history, evaluation.feedback)\n",
    "    return reply\n"
   ]
  },
  {
   "cell_type": "code",
   "execution_count": null,
   "id": "945b6fe7",
   "metadata": {},
   "outputs": [
    {
     "name": "stdout",
     "output_type": "stream",
     "text": [
      "* Running on local URL:  http://127.0.0.1:7867\n",
      "* To create a public link, set `share=True` in `launch()`.\n"
     ]
    },
    {
     "data": {
      "text/html": [
       "<div><iframe src=\"http://127.0.0.1:7867/\" width=\"100%\" height=\"500\" allow=\"autoplay; camera; microphone; clipboard-read; clipboard-write;\" frameborder=\"0\" allowfullscreen></iframe></div>"
      ],
      "text/plain": [
       "<IPython.core.display.HTML object>"
      ]
     },
     "metadata": {},
     "output_type": "display_data"
    },
    {
     "data": {
      "text/plain": []
     },
     "execution_count": 47,
     "metadata": {},
     "output_type": "execute_result"
    },
    {
     "name": "stdout",
     "output_type": "stream",
     "text": [
      "Passes evaluation -  returning reply\n",
      "Passes evaluation -  returning reply\n"
     ]
    }
   ],
   "source": [
    "gr.ChatInterface(chat, type=\"messages\").launch()"
   ]
  }
 ],
 "metadata": {
  "kernelspec": {
   "display_name": ".venv",
   "language": "python",
   "name": "python3"
  },
  "language_info": {
   "codemirror_mode": {
    "name": "ipython",
    "version": 3
   },
   "file_extension": ".py",
   "mimetype": "text/x-python",
   "name": "python",
   "nbconvert_exporter": "python",
   "pygments_lexer": "ipython3",
   "version": "3.12.11"
  }
 },
 "nbformat": 4,
 "nbformat_minor": 5
}
