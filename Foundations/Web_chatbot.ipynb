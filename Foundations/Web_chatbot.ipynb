{
 "cells": [
  {
   "cell_type": "code",
   "execution_count": null,
   "id": "2eafe4ba",
   "metadata": {},
   "outputs": [],
   "source": [
    "from dotenv import load_dotenv\n",
    "from openai import OpenAI\n",
    "from PyPDF2 import PdfReader\n",
    "import gradio as gr\n",
    "#Gradio is a Python Library that helps us quickly create interactive User Interfaces (UIs) without needing to build a\n",
    "#frontend from scratch."
   ]
  },
  {
   "cell_type": "code",
   "execution_count": 2,
   "id": "f1d4514e",
   "metadata": {},
   "outputs": [],
   "source": [
    "load_dotenv(override=True)\n",
    "client=OpenAI()"
   ]
  },
  {
   "cell_type": "code",
   "execution_count": 5,
   "id": "2980d89b",
   "metadata": {},
   "outputs": [],
   "source": [
    "reader=PdfReader(\"me/Neeraj Resume.pdf\")\n",
    "resume=\"\"\n",
    "for page in reader.pages:\n",
    "    text= page.extract_text()\n",
    "    if text:\n",
    "        resume += text\n"
   ]
  },
  {
   "cell_type": "code",
   "execution_count": 6,
   "id": "6b61ed26",
   "metadata": {},
   "outputs": [
    {
     "name": "stdout",
     "output_type": "stream",
     "text": [
      "Neeraj Sandhu\n",
      "+91 8091220037 |sandhuneeraj.works@gmail.com |LinkedIn: neerajsandhu\n",
      "Objective\n",
      "Aspiring frontend developer proficient in HTML, CSS, and JavaScript, passionate about transforming designs\n",
      "into responsive, user-friendly interfaces. Excited to apply my technical skills and creative problem-solving to\n",
      "build engaging web experiences in a collaborative environment\n",
      "Education\n",
      "Thapar Institute of Engineering and Technology Patiala, Punjab\n",
      "B.E. Computer Science Engineering 2021 – 2025\n",
      "St. D. R. Public Sr. Sec. School Una, Himachal Pradesh\n",
      "Class 12th 2019 – 2020\n",
      "Parmar International School Una, Himachal Pradesh\n",
      "Class 10th 2017 – 2018\n",
      "Projects\n",
      "VividVue Living |HTML, CSS, JavaScript, Selenium, TestNg\n",
      "•Developed a user-friendly real estate website with dynamic property listings, advanced search filters, and an\n",
      "intuitive interface. Used Selenium and TestNG for automation testing based on the design of test cases to ensure\n",
      "the reliability and proper functionality of the website.\n",
      "Ecommerce Website |HTML, CSS, PHP, SQL\n",
      "•Developed a fully functional eCommerce website using HTML, CSS, PHP, and SQL, focusing on a robust SQL\n",
      "database to manage inventory, customer data, and orders, with secure authentication and responsive design for\n",
      "enhanced user experience.\n",
      "Diabetes Prediction Website |Python, ML\n",
      "•Developed a web application using Python and machine learning to predict the likelihood of diabetes.Implemented\n",
      "data preprocessing, feature selection, and trained models to ensure accurate predictions.The user-friendly interface\n",
      "allows users to input health metrics and receive immediate risk assessments.Integrated visualization tools to\n",
      "display prediction results and related insights.\n",
      "Movie Recommendation System |Python, NLP\n",
      "•Designed and implemented an advanced recommendation system utilizing cosine similarity and natural language\n",
      "processing (NLP) techniques. Improved the recommendation accuracy by analyzing user preferences and movie\n",
      "attributes to provide personalized suggestions.\n",
      "Languages/Technologies\n",
      "Languages : C, C++, HTML, CSS, Python\n",
      "Libraries/Frameworks : JavaScript\n",
      "Developer Tools : Selenium, GitHub, Eclipse, Argo CD, Kubernates\n",
      "Databases : SQL, NoSQL, MongoDB\n",
      "Ceritications\n",
      "•AWS Cloud Foundations - Amazon\n",
      "•Argo CD Essential Guide for End Users - Udemy\n",
      "•API Begineer Learning Path - Postman Academy\n"
     ]
    }
   ],
   "source": [
    "print(resume)"
   ]
  },
  {
   "cell_type": "code",
   "execution_count": 8,
   "id": "b52efcc2",
   "metadata": {},
   "outputs": [],
   "source": [
    "with open(\"me/summary.txt\", \"r\", encoding='utf-8') as f:\n",
    "    summary=f.read()"
   ]
  },
  {
   "cell_type": "code",
   "execution_count": 9,
   "id": "3821f1dd",
   "metadata": {},
   "outputs": [],
   "source": [
    "name = \"Neeraj Sandhu\"\n",
    "system_prompt= f\"You are acting as {name}. You are answering questions on {name}'s Website, \\\n",
    "    particularly questions related to {name}'s carrer, background, skills and experience. \\\n",
    "    Your responsibility is to represent {name} for interactions on the website as faithfully as possible. \\\n",
    "    Be professional and engaging, as if talking to a potential client or future employer who came across the website. \\\n",
    "    If you don't know answer , say so.\"\n",
    "\n",
    "system_prompt+=f\"\\n\\n ## Summary:\\n{summary}\\n\\n##{resume}\\n\\n\"\n",
    "system_prompt+=f\"with this context, please chat with the user, always staying in character as {name}\""
   ]
  },
  {
   "cell_type": "code",
   "execution_count": 16,
   "id": "3c85df4f",
   "metadata": {},
   "outputs": [],
   "source": [
    "def chat(message,history):\n",
    "    messages=[{'role': 'user', 'content': system_prompt}] + history + [{'role': 'user', 'content': message}]\n",
    "    response = client.chat.completions.create(\n",
    "        model=\"gpt-4o-mini\",\n",
    "        messages=messages\n",
    "    )\n",
    "    return response.choices[0].message.content"
   ]
  },
  {
   "cell_type": "code",
   "execution_count": 17,
   "id": "5085fc37",
   "metadata": {},
   "outputs": [
    {
     "name": "stdout",
     "output_type": "stream",
     "text": [
      "* Running on local URL:  http://127.0.0.1:7862\n",
      "* To create a public link, set `share=True` in `launch()`.\n"
     ]
    },
    {
     "data": {
      "text/html": [
       "<div><iframe src=\"http://127.0.0.1:7862/\" width=\"100%\" height=\"500\" allow=\"autoplay; camera; microphone; clipboard-read; clipboard-write;\" frameborder=\"0\" allowfullscreen></iframe></div>"
      ],
      "text/plain": [
       "<IPython.core.display.HTML object>"
      ]
     },
     "metadata": {},
     "output_type": "display_data"
    },
    {
     "data": {
      "text/plain": []
     },
     "execution_count": 17,
     "metadata": {},
     "output_type": "execute_result"
    }
   ],
   "source": [
    "gr.ChatInterface(chat, type=\"messages\").launch()"
   ]
  },
  {
   "cell_type": "code",
   "execution_count": null,
   "id": "5fb91e5d",
   "metadata": {},
   "outputs": [],
   "source": [
    "#Pydantic is used to define, validate, and parse data models in Python, making sure your data is clean , structured and type-safe.\n",
    "#BaseModel is a core class which is used to create our own data models/schemas.\n",
    "#used of pydantic :\n",
    "#1. automatically checks if input data is of the right type.\n",
    "#2. converts data into correct Python types.\n",
    "#3. tells us exactly what's wrong if data doesn't match the schema.\n",
    "#4. can read environment variables/config files and validate them automatically.\n",
    "from pydantic import BaseModel\n",
    "\n",
    "#define a schema \n",
    "class Evaluation (BaseModel):\n",
    "    is_acceptable: bool\n",
    "    feedback: str"
   ]
  },
  {
   "cell_type": "code",
   "execution_count": 20,
   "id": "4520dd03",
   "metadata": {},
   "outputs": [],
   "source": [
    "evaluator_system_prompt= f\"You are an evaluator that decides where a response to a question is acceptable. \\\n",
    "    You are provided with a conversation between a user and an agent. your task is to decide whether the agent's latest response is acceptable or not. \\\n",
    "    The agent is playing the role of {name} and is representing {name} on their website. \\\n",
    "    The agent has been instructed to be professional and engaging, as if talking to a potential client or future employer who come across the website. \\\n",
    "    The agent has been provided with context on {name} in the form of their summary and Resume details. Here is the Information: \"\n",
    "\n",
    "evaluator_system_prompt+=f\"\\n\\n ##Summary: \\n{summary}\\n\\n##Resume details:\\n{resume}\\n\\n\"\n",
    "evaluator_system_prompt+=f\"with this context, please evaluate the latest response, replying with whether the response is acceptable or not then recommend the improved answer.\""
   ]
  },
  {
   "cell_type": "code",
   "execution_count": null,
   "id": "c9e05dae",
   "metadata": {},
   "outputs": [],
   "source": [
    "import os\n",
    "gemini=OpenAI(\n",
    "    api_key=os.getenv('G')\n",
    ")"
   ]
  }
 ],
 "metadata": {
  "kernelspec": {
   "display_name": ".venv",
   "language": "python",
   "name": "python3"
  },
  "language_info": {
   "codemirror_mode": {
    "name": "ipython",
    "version": 3
   },
   "file_extension": ".py",
   "mimetype": "text/x-python",
   "name": "python",
   "nbconvert_exporter": "python",
   "pygments_lexer": "ipython3",
   "version": "3.12.11"
  }
 },
 "nbformat": 4,
 "nbformat_minor": 5
}
