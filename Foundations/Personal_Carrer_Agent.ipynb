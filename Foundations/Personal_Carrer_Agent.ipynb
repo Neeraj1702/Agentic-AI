{
 "cells": [
  {
   "cell_type": "markdown",
   "id": "472df9e8",
   "metadata": {},
   "source": [
    "# First Project: Personal Carrer Agent\n",
    "\n",
    "### And, Tool use.\n",
    "\n",
    "**But first: introducing Pushover**\n",
    "\n",
    "Pushover is a nifty tool for sending Push Notifications to your phone.  \n",
    "It's super easy to set up and install!!\n",
    "\n",
    "Simply visit [Pushover](https://pushover.net/) and sign up for a free account, and create your API key.  \n",
    "\n",
    "Add to your `.env` file:\n",
    "\n",
    "PUSHOVER_TOKEN=\n",
    "\n",
    "PUSHOVER_USER=\n",
    "\n",
    "And install the app in your mobile phone"
   ]
  },
  {
   "cell_type": "code",
   "execution_count": 2,
   "id": "8305135a",
   "metadata": {},
   "outputs": [],
   "source": [
    "from dotenv import load_dotenv\n",
    "from openai import OpenAI\n",
    "import json\n",
    "import os\n",
    "import requests\n",
    "from PyPDF2 import PdfReader\n",
    "import gradio as gr\n"
   ]
  },
  {
   "cell_type": "code",
   "execution_count": 3,
   "id": "8dbd7027",
   "metadata": {},
   "outputs": [],
   "source": [
    "load_dotenv(override=True)\n",
    "client=OpenAI()"
   ]
  },
  {
   "cell_type": "code",
   "execution_count": 4,
   "id": "9f675ce7",
   "metadata": {},
   "outputs": [],
   "source": [
    "pushover_user=os.getenv(\"PUSHOVER_USER\")\n",
    "pushover_token=os.getenv(\"PUSHOVER_TOKEN\")\n",
    "pushover_url=\"https://api.pushover.net/1/messages.json\""
   ]
  },
  {
   "cell_type": "code",
   "execution_count": 5,
   "id": "fb00daf3",
   "metadata": {},
   "outputs": [],
   "source": [
    "def push(message):\n",
    "    print(f\"Push: {message}\")\n",
    "    payload = {\"user\": pushover_user, \"token\": pushover_token, \"message\": message}\n",
    "    requests.post(pushover_url, data=payload)"
   ]
  },
  {
   "cell_type": "code",
   "execution_count": 6,
   "id": "e29f55e7",
   "metadata": {},
   "outputs": [
    {
     "name": "stdout",
     "output_type": "stream",
     "text": [
      "Push: HEYY Neeraj!!\n"
     ]
    }
   ],
   "source": [
    "push(\"HEYY Neeraj!!\")"
   ]
  },
  {
   "cell_type": "markdown",
   "id": "e149c525",
   "metadata": {},
   "source": [
    "### Now we create some function and tools"
   ]
  },
  {
   "cell_type": "code",
   "execution_count": 26,
   "id": "dd34b600",
   "metadata": {},
   "outputs": [],
   "source": [
    "def record_user_details(email, name=\"Name not Provided\", notes=\"not Provided\"):\n",
    "    push(f\"Recording interests from {name} with email {email} and notes {notes}\")\n",
    "    return {\"Recorded\": \"OK\"}"
   ]
  },
  {
   "cell_type": "code",
   "execution_count": 27,
   "id": "0fd40de9",
   "metadata": {},
   "outputs": [],
   "source": [
    "def record_unknown_question(question):\n",
    "    push(f\"Recording {question} asked that I couldn't answer\")\n",
    "    return {\"Recorded\": \"OK\"}"
   ]
  },
  {
   "cell_type": "code",
   "execution_count": 28,
   "id": "7fa6e932",
   "metadata": {},
   "outputs": [],
   "source": [
    "record_user_details_json= {\n",
    "    \"name\": \"record_user_details\",\n",
    "    \"description\": \"Use this tool to record that a user is interested in being in touch and provided an email address\",\n",
    "    \"parameters\": {\n",
    "        \"type\": \"object\",\n",
    "        \"properties\": {\n",
    "            \"email\": {\n",
    "                \"type\": \"string\",\n",
    "                \"description\": \"The email address of this user\"\n",
    "            },\n",
    "            \"name\": {\n",
    "                \"type\": \"string\",\n",
    "                \"decription\": \" The user's name, if they provided it \"\n",
    "            },\n",
    "            \"notes\": {\n",
    "                \"type\": \"string\",\n",
    "                \"description\": \"Any additional information about the conversation that's worth recording to give context\"\n",
    "            }\n",
    "        },\n",
    "        \"required\": [\"email\"],\n",
    "        \"additionalProperties\": False\n",
    "    }\n",
    "    \n",
    "}"
   ]
  },
  {
   "cell_type": "code",
   "execution_count": 29,
   "id": "9effe143",
   "metadata": {},
   "outputs": [],
   "source": [
    "record_unknown_question_json = {\n",
    "    \"name\": \"record_unknown_question\",\n",
    "    \"description\": \"Always use this tool to record any question that couldn't be answeres as you didn't know the answer\",\n",
    "    \"parameters\": {\n",
    "        \"type\": \"object\",\n",
    "        \"properties\":{\n",
    "            \"question\": {\n",
    "                \"type\": \"string\",\n",
    "                \"description\": \"The question that couldn't be answered\"\n",
    "            },\n",
    "        },\n",
    "        \"required\":[\"question\"],\n",
    "        \"additionalProperties\": False\n",
    "    }\n",
    "}"
   ]
  },
  {
   "cell_type": "code",
   "execution_count": 30,
   "id": "528cf162",
   "metadata": {},
   "outputs": [],
   "source": [
    "tools=[{\"type\": \"function\", \"function\": record_user_details_json},\n",
    "      {\"type\": \"function\", \"function\": record_unknown_question_json}]"
   ]
  },
  {
   "cell_type": "markdown",
   "id": "789c37c1",
   "metadata": {},
   "source": [
    "### Here we learn How to process and execute function requests"
   ]
  },
  {
   "cell_type": "code",
   "execution_count": 12,
   "id": "b188b543",
   "metadata": {},
   "outputs": [],
   "source": [
    "# this function can take a list of tool calls, and run them.\n",
    "def handle_tool_calls(tool_calls):\n",
    "    results = []\n",
    "    for tool_call in tool_calls:\n",
    "        tool_name=tool_call.function.name\n",
    "        arguments= json.loads(tool_call.function.arguments)\n",
    "        print(f\"Tool called : {tool_name}\", flush=True)\n",
    "\n",
    "        # if tool_name == \"record_user_details\":\n",
    "        #     result= record_user_details(**arguments)\n",
    "        # elif tool_name == \"record_unknown_questions\":\n",
    "        #     result = record_unknown_questions(**arguments)\n",
    "\n",
    "        tool=globals().get(tool_name)\n",
    "        result= tool(**arguments) if tool else {}\n",
    "\n",
    "        results.append({\"role\": \"tool\", \"content\": json.dumps(result),\"tool_call_id\": tool_call.id})\n",
    "    return results\n"
   ]
  },
  {
   "cell_type": "code",
   "execution_count": 13,
   "id": "7e9c8834",
   "metadata": {},
   "outputs": [
    {
     "name": "stdout",
     "output_type": "stream",
     "text": [
      "Push: Recording this is a really hard question asked that I couldn't answer\n"
     ]
    },
    {
     "data": {
      "text/plain": [
       "{'Recorded': 'OK'}"
      ]
     },
     "execution_count": 13,
     "metadata": {},
     "output_type": "execute_result"
    }
   ],
   "source": [
    "globals()[\"record_unknown_questions\"](\"this is a really hard question\")"
   ]
  },
  {
   "cell_type": "code",
   "execution_count": 14,
   "id": "65bcd847",
   "metadata": {},
   "outputs": [],
   "source": [
    "reader=PdfReader(\"me/Neeraj Resume.pdf\")\n",
    "resume=\"\"\n",
    "for page in reader.pages:\n",
    "    text= page.extract_text()\n",
    "    if text:\n",
    "        resume += text\n",
    "\n",
    "with open(\"me/summary.txt\", \"r\", encoding='utf-8') as f:\n",
    "    summary=f.read()\n",
    "\n",
    "name=\"Neeraj Sandhu\""
   ]
  },
  {
   "cell_type": "code",
   "execution_count": 18,
   "id": "1b92e4d3",
   "metadata": {},
   "outputs": [],
   "source": [
    "system_prompt= f\"You are acting as {name}. You are answering questions on {name}'s Website, \\\n",
    "    particularly questions related to {name}'s carrer, background, skills and experience. \\\n",
    "    Your responsibility is to represent {name} for interactions on the website as faithfully as possible. \\\n",
    "    Be professional and engaging, as if talking to a potential client or future employer who came across the website. \\\n",
    "    If you don't know answer to any question , use your record_unknown_questions tool to record the question that you couldn't answer. \\\n",
    "    If user is enaging in discussion , try to steer them towards getting in touch via email; ask for their email and record it using your tools\"\n",
    "\n",
    "system_prompt+=f\"\\n\\n ## Summary:\\n{summary}\\n\\n##{resume}\\n\\n\"\n",
    "system_prompt+=f\"with this context, please chat with the user, always staying in character as {name}\""
   ]
  },
  {
   "cell_type": "code",
   "execution_count": null,
   "id": "51498365",
   "metadata": {},
   "outputs": [],
   "source": [
    "def chat(message, history):\n",
    "    messages = [{\"role\": \"system\", \"content\": system_prompt}] + history + [{\"role\": \"user\", \"content\": message}]\n",
    "    done = False\n",
    "    while not done:\n",
    "        # this is the call to LLm -- see that we pass in the tools json\n",
    "        response = client.chat.completions.create(\n",
    "            model=\"gpt-4o-mini\",\n",
    "            messages=messages,\n",
    "            tools=tools\n",
    "        )\n",
    "        \n",
    "        finish_reason = response.choices[0].finish_reason\n",
    "\n",
    "        #If the LLm want to call a tool we do that!\n",
    "\n",
    "        if finish_reason==\"tool_calls\":\n",
    "            message= response.choices[0].message\n",
    "            tool_calls = message.tool_calls\n",
    "            results= handle_tool_calls(tool_calls)\n",
    "            messages.append(message)\n",
    "            messages.extend(results)\n",
    "        else:\n",
    "            done = True\n",
    "    return response.choices[0].message.content"
   ]
  },
  {
   "cell_type": "code",
   "execution_count": null,
   "id": "9f2de530",
   "metadata": {},
   "outputs": [
    {
     "name": "stdout",
     "output_type": "stream",
     "text": [
      "* Running on local URL:  http://127.0.0.1:7866\n",
      "* To create a public link, set `share=True` in `launch()`.\n"
     ]
    },
    {
     "data": {
      "text/html": [
       "<div><iframe src=\"http://127.0.0.1:7866/\" width=\"100%\" height=\"500\" allow=\"autoplay; camera; microphone; clipboard-read; clipboard-write;\" frameborder=\"0\" allowfullscreen></iframe></div>"
      ],
      "text/plain": [
       "<IPython.core.display.HTML object>"
      ]
     },
     "metadata": {},
     "output_type": "display_data"
    },
    {
     "data": {
      "text/plain": []
     },
     "execution_count": 32,
     "metadata": {},
     "output_type": "execute_result"
    },
    {
     "name": "stdout",
     "output_type": "stream",
     "text": [
      "Tool called : record_unknown_question\n",
      "Push: Recording Who is your favourite actor? asked that I couldn't answer\n",
      "Tool called : record_user_details\n",
      "Push: Recording interests from Name not Provided with email sandhuneeraj002@gmail.com and notes not Provided\n"
     ]
    }
   ],
   "source": [
    "gr.ChatInterface(chat, type=\"messages\").launch()"
   ]
  }
 ],
 "metadata": {
  "kernelspec": {
   "display_name": ".venv",
   "language": "python",
   "name": "python3"
  },
  "language_info": {
   "codemirror_mode": {
    "name": "ipython",
    "version": 3
   },
   "file_extension": ".py",
   "mimetype": "text/x-python",
   "name": "python",
   "nbconvert_exporter": "python",
   "pygments_lexer": "ipython3",
   "version": "3.12.11"
  }
 },
 "nbformat": 4,
 "nbformat_minor": 5
}
