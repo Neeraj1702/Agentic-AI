{
 "cells": [
  {
   "cell_type": "code",
   "execution_count": null,
   "id": "6948e3b9",
   "metadata": {},
   "outputs": [],
   "source": [
    "from dotenv import load_dotenv"
   ]
  },
  {
   "cell_type": "code",
   "execution_count": null,
   "id": "7c2843d5",
   "metadata": {},
   "outputs": [],
   "source": [
    "load_dotenv(override=True)"
   ]
  },
  {
   "cell_type": "code",
   "execution_count": null,
   "id": "afcee613",
   "metadata": {},
   "outputs": [],
   "source": [
    "import os\n",
    "openai_api_key=os.getenv(\"OPENAI_API_KEY\")\n",
    "if openai_api_key:\n",
    "    print(f\"OpenAI API key exists and starts with {openai_api_key[:10]}\")\n",
    "else:\n",
    "    print(\"OpenAI Key doesnt exists\")"
   ]
  },
  {
   "cell_type": "code",
   "execution_count": null,
   "id": "997de43c",
   "metadata": {},
   "outputs": [],
   "source": [
    "from openai import OpenAI"
   ]
  },
  {
   "cell_type": "code",
   "execution_count": null,
   "id": "2afbdade",
   "metadata": {},
   "outputs": [],
   "source": [
    "client=OpenAI()"
   ]
  },
  {
   "cell_type": "code",
   "execution_count": null,
   "id": "7af1807d",
   "metadata": {},
   "outputs": [],
   "source": [
    "message=[{\"role\": \"user\", 'content': 'what is 2+2'}]\n",
    "print(message)"
   ]
  },
  {
   "cell_type": "code",
   "execution_count": null,
   "id": "bd6587c3",
   "metadata": {},
   "outputs": [],
   "source": [
    "response=client.chat.completions.create(\n",
    "    model='gpt-5',\n",
    "    messages=message\n",
    ")\n",
    "result=response.choices[0].message.content\n",
    "print(result)"
   ]
  },
  {
   "cell_type": "code",
   "execution_count": null,
   "id": "9ffc26cd",
   "metadata": {},
   "outputs": [],
   "source": [
    "question='propose a hard challenge to check someones IQ and give a hint to solve that que'\n",
    "message=[{\"role\": \"user\", \"content\": question}]\n",
    "\n",
    "response=client.chat.completions.create(\n",
    "    model='gpt-5',\n",
    "    messages=message\n",
    ")\n",
    "\n",
    "result=response.choices[0].message.content\n",
    "print(result)"
   ]
  },
  {
   "cell_type": "code",
   "execution_count": null,
   "id": "aab7f1f4",
   "metadata": {},
   "outputs": [],
   "source": [
    "message=[{'role': 'user', 'content': result}]\n",
    "\n",
    "response=client.chat.completions.create(\n",
    "    model='gpt-5',\n",
    "    messages=message\n",
    ")\n",
    "\n",
    "answer=response.choices[0].message.content\n",
    "print('Answer\\n', answer)"
   ]
  },
  {
   "cell_type": "code",
   "execution_count": null,
   "id": "c101f06a",
   "metadata": {},
   "outputs": [],
   "source": [
    "from IPython.display import Markdown, display\n",
    "\n",
    "display(Markdown(answer))"
   ]
  },
  {
   "cell_type": "code",
   "execution_count": null,
   "id": "e5a1fab0",
   "metadata": {},
   "outputs": [],
   "source": [
    "que='Pick a business area that might be worth exploring for an Agentic AI oppourtunity.'\n",
    "message=[{'role':'user', 'content':que}]\n",
    "\n",
    "response=client.chat.completions.create(\n",
    "    model='gpt-5',\n",
    "    messages=message\n",
    ")\n",
    "result=response.choices[0].message.content\n",
    "print(result)"
   ]
  },
  {
   "cell_type": "code",
   "execution_count": null,
   "id": "14bc7719",
   "metadata": {},
   "outputs": [],
   "source": [
    "new=result,'now present a pain point in your given idea and give something challenging that might be ripe for an Agentic Solution also give heading of the business ares in answer that you suggest'\n",
    "message=[{'role':'user', 'content':str(new)}]\n",
    "\n",
    "response=client.chat.completions.create(\n",
    "    model='gpt-5',\n",
    "    messages=message\n",
    ")\n",
    "\n",
    "new_ans=response.choices[0].message.content\n",
    "\n",
    "print(new_ans)\n",
    "# display(Markdown(new_ans))"
   ]
  },
  {
   "cell_type": "code",
   "execution_count": null,
   "id": "56fcb0a1",
   "metadata": {},
   "outputs": [],
   "source": [
    "solution=new_ans,'now give an proposed Agentic Ai solution to this'\n",
    "message=[{'role': 'user', 'content':str(solution)}]\n",
    "\n",
    "response=client.chat.completions.create(\n",
    "    model='gpt-5',\n",
    "    messages=message\n",
    ")\n",
    "\n",
    "soln=response.choices[0].message.content\n",
    "\n"
   ]
  },
  {
   "cell_type": "code",
   "execution_count": null,
   "id": "bd31d95a",
   "metadata": {},
   "outputs": [],
   "source": [
    "print(soln)"
   ]
  },
  {
   "cell_type": "code",
   "execution_count": null,
   "id": "1bd40be6",
   "metadata": {},
   "outputs": [],
   "source": [
    "display(Markdown(soln))"
   ]
  },
  {
   "cell_type": "code",
   "execution_count": null,
   "id": "ae22d4f4",
   "metadata": {},
   "outputs": [],
   "source": [
    "new=soln,'Thank you for suggesting this ..it will be very helpful,dont give anything next now'\n",
    "message=[{'role': 'user', 'content':str(new)}]\n",
    "\n",
    "response=client.chat.completions.create(\n",
    "    model='gpt-5',\n",
    "    messages=message\n",
    ")\n",
    "res=response.choices[0].message.content\n",
    "print(res)"
   ]
  }
 ],
 "metadata": {
  "kernelspec": {
   "display_name": ".venv",
   "language": "python",
   "name": "python3"
  },
  "language_info": {
   "codemirror_mode": {
    "name": "ipython",
    "version": 3
   },
   "file_extension": ".py",
   "mimetype": "text/x-python",
   "name": "python",
   "nbconvert_exporter": "python",
   "pygments_lexer": "ipython3",
   "version": "3.12.11"
  }
 },
 "nbformat": 4,
 "nbformat_minor": 5
}
